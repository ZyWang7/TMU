{
 "cells": [
  {
   "cell_type": "markdown",
   "id": "3768a493",
   "metadata": {},
   "source": [
    "## Get Pretrained model"
   ]
  },
  {
   "cell_type": "code",
   "execution_count": null,
   "id": "b7d6a94e",
   "metadata": {},
   "outputs": [],
   "source": [
    "import argparse\n",
    "import torch\n",
    "import torch.backends.cudnn as cudnn\n",
    "from main.config import Config\n",
    "import os.path as osp\n",
    "import datetime\n",
    "from pathlib import Path\n",
    "from main.base import Tester\n",
    "from human_models.human_models import SMPL, SMPLX\n",
    "from tqdm import tqdm"
   ]
  },
  {
   "cell_type": "code",
   "execution_count": 2,
   "id": "df4c62e7",
   "metadata": {},
   "outputs": [],
   "source": [
    "cudnn.benchmark = True\n",
    "# init config\n",
    "time_str = datetime.datetime.now().strftime('%Y%m%d_%H%M%S')\n",
    "root_dir = \"D:/Msc_project/SMPLest-X_ToMe/\"\n",
    "config_path = \"pretrained_models/smplest_x_h/config_base.py\"\n",
    "cfg = Config.load_config(config_path)\n",
    "checkpoint_path = \"pretrained_models/smplest_x_h/smplest_x_h.pth.tar\"\n",
    "exp_name = f'test_EHF_{time_str}'"
   ]
  },
  {
   "cell_type": "code",
   "execution_count": 3,
   "id": "f7da2269",
   "metadata": {},
   "outputs": [
    {
     "name": "stdout",
     "output_type": "stream",
     "text": [
      "Config has been saved to D:/Msc_project/SMPLest-X_ToMe/outputs\\test_EHF_20250811_134535/config.py\n"
     ]
    }
   ],
   "source": [
    "testset = \"EHF\"\n",
    "use_cache = False\n",
    "test_batch_size = 16\n",
    "\n",
    "new_config = {\n",
    "    \"data\": {\n",
    "        \"testset\": str(testset),\n",
    "        \"use_cache\": use_cache,\n",
    "    },\n",
    "    \"test\":{\n",
    "        \"test_batch_size\": int(test_batch_size),\n",
    "    },\n",
    "    \"model\": {\n",
    "        \"pretrained_model_path\": checkpoint_path,\n",
    "    },\n",
    "    \"log\":{\n",
    "        'exp_name':  exp_name,\n",
    "        'output_dir': osp.join(root_dir, 'outputs', exp_name),\n",
    "        'model_dir': osp.join(root_dir, 'outputs', exp_name, 'model_dump'),\n",
    "        'log_dir': osp.join(root_dir, 'outputs', exp_name, 'log'),\n",
    "        'result_dir': osp.join(root_dir, 'outputs', exp_name, 'result'),\n",
    "    }\n",
    "}\n",
    "\n",
    "cfg.update_config(new_config)\n",
    "cfg.prepare_log()\n",
    "cfg.dump_config()"
   ]
  },
  {
   "cell_type": "code",
   "execution_count": null,
   "id": "0f57f138",
   "metadata": {},
   "outputs": [],
   "source": [
    "smpl_x = SMPLX(cfg.model.human_model_path)\n",
    "\n",
    "# init tester\n",
    "tester = Tester(cfg)\n",
    "tester.logger.info(f\"Using 1 GPU with bs={cfg.test.test_batch_size} per GPU.\")\n",
    "tester.logger.info(f'Testing [{checkpoint_path}] on datasets [{cfg.data.testset}]')\n",
    "\n",
    "tester._make_batch_generator()\n",
    "tester._make_model()"
   ]
  },
  {
   "cell_type": "code",
   "execution_count": null,
   "id": "b1b233de",
   "metadata": {},
   "outputs": [],
   "source": [
    "import tmu\n",
    "\n",
    "tmu.patch.timm(tester.model.module.encoder, trace_source=True)\n",
    "tester.model.module.encoder.r = 4\n",
    "print(f\"Applied TMU Unmerge. r is: {tester.model.module.encoder.r}\")\n",
    "\n",
    "tester.model"
   ]
  },
  {
   "cell_type": "markdown",
   "id": "819ba324",
   "metadata": {},
   "source": [
    "## Check the bottleneck"
   ]
  },
  {
   "cell_type": "code",
   "execution_count": null,
   "id": "f082e246",
   "metadata": {},
   "outputs": [],
   "source": [
    "device = torch.device(\"cuda\")\n",
    "dummy_input = torch.randn(16, 3, 256, 192).to(device)\n",
    "\n",
    "with torch.no_grad():\n",
    "    _ = tester.model.module.encoder(dummy_input)\n"
   ]
  },
  {
   "cell_type": "code",
   "execution_count": null,
   "id": "030c380a",
   "metadata": {},
   "outputs": [],
   "source": [
    "start_event = torch.cuda.Event(enable_timing=True)\n",
    "end_event = torch.cuda.Event(enable_timing=True)\n",
    "\n",
    "device = torch.device(\"cuda\")\n",
    "dummy_input = torch.randn(16, 3, 256, 192).to(device)\n",
    "\n",
    "print(\"Warming up the GPU...\")\n",
    "with torch.no_grad():\n",
    "    for _ in range(3):\n",
    "        _ = tester.model.module.encoder(dummy_input)\n",
    "\n",
    "# 4. PERFORM TIMING\n",
    "print(\"\\n--- Profiling Model Components ---\")\n",
    "torch.cuda.synchronize(device) # Ensure all previous work is done\n",
    "\n",
    "# --- Time the Encoder ---\n",
    "with torch.no_grad():\n",
    "    start_event.record()\n",
    "    img_feat, task_tokens = tester.model.module.encoder(dummy_input)\n",
    "    end_event.record()\n",
    "\n",
    "torch.cuda.synchronize(device) # IMPORTANT: Wait for the operation to finish\n",
    "encoder_time_ms = start_event.elapsed_time(end_event)\n",
    "print(f\"Encoder Time: {encoder_time_ms:.3f} ms\")\n",
    "\n",
    "# --- Time the Decoder ---\n",
    "with torch.no_grad():\n",
    "    start_event.record()\n",
    "    output = tester.model.module.decoder(img_feat, task_tokens)\n",
    "    end_event.record()\n",
    "\n",
    "torch.cuda.synchronize(device) # IMPORTANT: Wait for the operation to finish\n",
    "decoder_time_ms = start_event.elapsed_time(end_event)\n",
    "print(f\"Decoder Time: {decoder_time_ms:.3f} ms\")\n",
    "\n",
    "overhead = encoder_time_ms + decoder_time_ms\n",
    "print(f\"Total Measured Time: {overhead:.3f} ms\")\n"
   ]
  },
  {
   "cell_type": "code",
   "execution_count": null,
   "id": "ded3c7d7",
   "metadata": {},
   "outputs": [],
   "source": [
    "import torch\n",
    "import torch.profiler\n",
    "from tqdm import tqdm\n",
    "\n",
    "# Check for CUDA and set the device\n",
    "if torch.cuda.is_available():\n",
    "    device = torch.device(\"cuda\")\n",
    "    print(f\"CUDA is available. Using GPU: {torch.cuda.get_device_name(0)}\")\n",
    "else:\n",
    "    device = torch.device(\"cpu\")\n",
    "    print(\"CUDA not found. Running on CPU.\")\n",
    "\n",
    "# Move the model to the GPU\n",
    "# Make sure your 'tester.model' is on the correct device before profiling\n",
    "tester.model.to(device)\n",
    "\n",
    "# Run a few batches without profiling to let caches and GPU resources warm up.\n",
    "warmup_batches = 3\n",
    "batch_generator = iter(tester.batch_generator)\n",
    "print(\"Warming up GPU...\")\n",
    "for _ in range(warmup_batches):\n",
    "    try:\n",
    "        # Move warmup data to GPU as well to make it a realistic warmup\n",
    "        inputs, targets, meta_info = next(batch_generator)\n",
    "        inputs = {k: v.to(device) for k, v in inputs.items()}\n",
    "        targets = {k: v.to(device) for k, v in targets.items()}\n",
    "        with torch.no_grad():\n",
    "            _ = tester.model(inputs, targets, meta_info, 'test')\n",
    "    except StopIteration:\n",
    "        print(\"Warning: Not enough batches for a full warmup.\")\n",
    "        # Re-create the generator if it's exhausted\n",
    "        batch_generator = iter(tester.batch_generator)\n",
    "        break\n",
    "print(\"Warmup complete.\")\n",
    "\n",
    "# Get the first (or next available) batch of data for profiling\n",
    "try:\n",
    "    inputs, targets, meta_info = next(batch_generator)\n",
    "except StopIteration:\n",
    "    print(\"Profiler did not run because the batch generator is empty.\")\n",
    "else:\n",
    "    # Move the actual batch to the GPU\n",
    "    print(\"Moving data to GPU for profiling...\")\n",
    "    inputs = {k: v.to(device) for k, v in inputs.items()}\n",
    "    targets = {k: v.to(device) for k, v in targets.items()}\n",
    "\n",
    "    # Profile the model's execution on this single batch\n",
    "    print(\"Starting profiler...\")\n",
    "    with torch.profiler.profile(\n",
    "        activities=[\n",
    "            torch.profiler.ProfilerActivity.CPU,\n",
    "            torch.profiler.ProfilerActivity.CUDA, # This is now active\n",
    "        ],\n",
    "        with_stack=True,\n",
    "        record_shapes=True\n",
    "    ) as prof:\n",
    "        with torch.no_grad():\n",
    "            with torch.profiler.record_function(\"model_inference\"):\n",
    "                model_out = tester.model(inputs, targets, meta_info, 'test')\n",
    "    print(\"Profiling complete.\")\n",
    "\n",
    "    # Sorting by 'cuda_time_total' is the best way to see what ran on the GPU\n",
    "    print(\"\\n--- Profiler Results (sorted by CUDA time) ---\")\n",
    "    print(prof.key_averages().table(sort_by=\"cuda_time_total\", row_limit=20))"
   ]
  },
  {
   "cell_type": "markdown",
   "id": "6c7f8420",
   "metadata": {},
   "source": [
    "### Evaluate"
   ]
  },
  {
   "cell_type": "code",
   "execution_count": 11,
   "id": "bce251a7",
   "metadata": {},
   "outputs": [
    {
     "name": "stderr",
     "output_type": "stream",
     "text": [
      "  0%|          | 0/7 [00:00<?, ?it/s]"
     ]
    },
    {
     "name": "stdout",
     "output_type": "stream",
     "text": [
      "Number of tokens left: 64\n",
      "Number of image tokens: 192\n"
     ]
    },
    {
     "name": "stderr",
     "output_type": "stream",
     "text": [
      " 14%|█▍        | 1/7 [00:03<00:21,  3.66s/it]"
     ]
    },
    {
     "name": "stdout",
     "output_type": "stream",
     "text": [
      "Number of tokens left: 64\n",
      "Number of image tokens: 192\n"
     ]
    },
    {
     "name": "stderr",
     "output_type": "stream",
     "text": [
      " 29%|██▊       | 2/7 [00:04<00:10,  2.16s/it]"
     ]
    },
    {
     "name": "stdout",
     "output_type": "stream",
     "text": [
      "Number of tokens left: 64\n",
      "Number of image tokens: 192\n"
     ]
    },
    {
     "name": "stderr",
     "output_type": "stream",
     "text": [
      " 43%|████▎     | 3/7 [00:06<00:07,  1.78s/it]"
     ]
    },
    {
     "name": "stdout",
     "output_type": "stream",
     "text": [
      "Number of tokens left: 64\n",
      "Number of image tokens: 192\n"
     ]
    },
    {
     "name": "stderr",
     "output_type": "stream",
     "text": [
      " 57%|█████▋    | 4/7 [00:07<00:04,  1.60s/it]"
     ]
    },
    {
     "name": "stdout",
     "output_type": "stream",
     "text": [
      "Number of tokens left: 64\n",
      "Number of image tokens: 192\n"
     ]
    },
    {
     "name": "stderr",
     "output_type": "stream",
     "text": [
      " 71%|███████▏  | 5/7 [00:08<00:03,  1.51s/it]"
     ]
    },
    {
     "name": "stdout",
     "output_type": "stream",
     "text": [
      "Number of tokens left: 64\n",
      "Number of image tokens: 192\n"
     ]
    },
    {
     "name": "stderr",
     "output_type": "stream",
     "text": [
      "100%|██████████| 7/7 [00:10<00:00,  1.03s/it]"
     ]
    },
    {
     "name": "stdout",
     "output_type": "stream",
     "text": [
      "Number of tokens left: 64\n",
      "Number of image tokens: 192\n"
     ]
    },
    {
     "name": "stderr",
     "output_type": "stream",
     "text": [
      "100%|██████████| 7/7 [00:10<00:00,  1.50s/it]"
     ]
    },
    {
     "name": "stdout",
     "output_type": "stream",
     "text": [
      "======EHF======\n",
      "PA MPVPE (All): 39.00 mm\n",
      "PA MPVPE (L-Hands): 12.80 mm\n",
      "PA MPVPE (R-Hands): 12.40 mm\n",
      "PA MPVPE (Hands): 12.60 mm\n",
      "PA MPVPE (Face): 4.95 mm\n",
      "\n",
      "MPVPE (All): 74.57 mm\n",
      "MPVPE (L-Hands): 43.61 mm\n",
      "MPVPE (R-Hands): 43.96 mm\n",
      "MPVPE (Hands): 43.78 mm\n",
      "MPVPE (Face): 22.30 mm\n",
      "\n",
      "PA MPJPE (Body): 43.05 mm\n",
      "PA MPJPE (L-Hands): 12.90 mm\n",
      "PA MPJPE (R-Hands): 12.45 mm\n",
      "PA MPJPE (Hands): 12.67 mm\n",
      "\n",
      "38.998660774249316,12.80182325512417,12.39556192831006,12.598692591717116,4.949148052468873,74.56845053224033,43.61167939317517,43.95607033350364,43.783874863339385,22.304173716348984\n",
      "\n"
     ]
    },
    {
     "name": "stderr",
     "output_type": "stream",
     "text": [
      "\n"
     ]
    }
   ],
   "source": [
    "# Evaluate\n",
    "eval_result = {}\n",
    "cur_sample_idx = 0\n",
    "for itr, (inputs, targets, meta_info) in enumerate(tqdm(tester.batch_generator)):\n",
    "    with torch.no_grad():\n",
    "        model_out = tester.model(inputs, targets, meta_info, 'test')\n",
    "\n",
    "    batch_size = model_out['img'].shape[0]\n",
    "\n",
    "    out = {}\n",
    "    for k, v in model_out.items():\n",
    "        if isinstance(v, torch.Tensor):\n",
    "            out[k] = v.cpu().numpy()\n",
    "        elif isinstance(v, list):\n",
    "            out[k] = v\n",
    "        else:\n",
    "            raise ValueError('Undefined type in out. Key: {}; Type: {}.'.format(k, type(v)))\n",
    "\n",
    "    out = [{k: v[bid] for k, v in out.items()} for bid in range(batch_size)]\n",
    "\n",
    "    # evaluate\n",
    "    cur_eval_result = tester._evaluate(out, cur_sample_idx, smpl_x)\n",
    "    for k, v in cur_eval_result.items():\n",
    "        if k in eval_result:\n",
    "            eval_result[k] += v\n",
    "        else:\n",
    "            eval_result[k] = v\n",
    "    cur_sample_idx += len(out)\n",
    "\n",
    "tester._print_eval_result(eval_result)"
   ]
  },
  {
   "cell_type": "code",
   "execution_count": null,
   "id": "6fe6f4eb",
   "metadata": {},
   "outputs": [],
   "source": []
  }
 ],
 "metadata": {
  "kernelspec": {
   "display_name": ".smplestx",
   "language": "python",
   "name": "python3"
  },
  "language_info": {
   "codemirror_mode": {
    "name": "ipython",
    "version": 3
   },
   "file_extension": ".py",
   "mimetype": "text/x-python",
   "name": "python",
   "nbconvert_exporter": "python",
   "pygments_lexer": "ipython3",
   "version": "3.8.10"
  }
 },
 "nbformat": 4,
 "nbformat_minor": 5
}
